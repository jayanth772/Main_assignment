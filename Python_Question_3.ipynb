{
 "cells": [
  {
   "cell_type": "code",
   "execution_count": null,
   "id": "952cf9a8",
   "metadata": {},
   "outputs": [],
   "source": [
    "Question 3: -\n",
    "Write a program, which would download the data from the provided link, and then read the data and convert\n",
    "that into properly structured data and return it in Excel format.\n",
    "Note - Write comments wherever necessary explaining the code written.\n",
    "\n",
    "Link - https://raw.githubusercontent.com/Biuni/PokemonGO-Pokedex/master/pokedex.json"
   ]
  },
  {
   "cell_type": "code",
   "execution_count": 6,
   "id": "d0c1fa42",
   "metadata": {},
   "outputs": [],
   "source": [
    "import pandas as pd\n",
    "import numpy as np\n",
    "#reading the dataset\n",
    "df=pd.read_json(r\"https://raw.githubusercontent.com/Biuni/PokemonGO-Pokedex/master/pokedex.json\")\n",
    "count=0\n",
    "column_names=[]\n",
    "for i in df[\"pokemon\"][1].keys():\n",
    "    column_names.append(i)\n",
    "data=pd.DataFrame(columns=df.columns)\n",
    "for i in range(len(df[\"pokemon\"])):\n",
    "    data=pd.concat([data,pd.DataFrame(df['pokemon'][i].values()).transpose()])\n",
    "data.drop(columns=\"pokemon\",inplace=True)\n",
    "#Assigning column names for the dataset\n",
    "data.columns=column_names\n",
    "#Converting to the csv format and stores it in the same path where .ipynb is there\n",
    "data.to_csv('result.csv')"
   ]
  },
  {
   "cell_type": "code",
   "execution_count": null,
   "id": "a7cfe624",
   "metadata": {},
   "outputs": [],
   "source": []
  }
 ],
 "metadata": {
  "kernelspec": {
   "display_name": "Python 3 (ipykernel)",
   "language": "python",
   "name": "python3"
  },
  "language_info": {
   "codemirror_mode": {
    "name": "ipython",
    "version": 3
   },
   "file_extension": ".py",
   "mimetype": "text/x-python",
   "name": "python",
   "nbconvert_exporter": "python",
   "pygments_lexer": "ipython3",
   "version": "3.10.9"
  }
 },
 "nbformat": 4,
 "nbformat_minor": 5
}
