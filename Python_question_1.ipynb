{
 "cells": [
  {
   "cell_type": "code",
   "execution_count": null,
   "id": "1ae03296",
   "metadata": {},
   "outputs": [],
   "source": [
    "Question 1: -\n",
    "Write a program that takes a string as input, and counts the frequency of each word in the string, there might\n",
    "be repeated characters in the string. Your task is to find the highest frequency and returns the length of the\n",
    "highest-frequency word.\n",
    "\n",
    "Note - You have to write at least 2 additional test cases in which your program will run successfully and provide\n",
    "an explanation for the same.\n",
    "Example input - string = “write write write all the number from from from 1 to 100”\n",
    "Example output - 5\n",
    "Explanation - From the given string we can note that the most frequent words are “write” and “from” and\n",
    "the maximum value of both the values is “write” and its corresponding length is 5"
   ]
  },
  {
   "cell_type": "code",
   "execution_count": 4,
   "id": "5581ed9e",
   "metadata": {},
   "outputs": [
    {
     "name": "stdout",
     "output_type": "stream",
     "text": [
      "5\n"
     ]
    }
   ],
   "source": [
    "def sol(string):\n",
    "    li=string.split(\" \")\n",
    "    d={}\n",
    "    for i in li:\n",
    "        if i not in d.keys():\n",
    "            d[i]=1\n",
    "        else:\n",
    "            d[i]=d[i]+1\n",
    "    ma=0\n",
    "    out=0\n",
    "    for i in d.keys():\n",
    "        if d[i]>ma:\n",
    "            ma=d[i]\n",
    "            out=len(i)\n",
    "        elif d[i]==ma:\n",
    "            if len(i)>out:\n",
    "                out=len(i)\n",
    "    return out\n",
    "print(sol(\"write write write all the number from from from 1 to 100\"))\n",
    "#write repeats 3 times, from repeat 3 times\n",
    "#length of write(5) is greater than length of from(4),so it prints 5 as output"
   ]
  },
  {
   "cell_type": "code",
   "execution_count": 2,
   "id": "2e40c600",
   "metadata": {},
   "outputs": [
    {
     "name": "stdout",
     "output_type": "stream",
     "text": [
      "6\n"
     ]
    }
   ],
   "source": [
    "print(sol(\"my name name name is jayanth bonala jayanth bonala jayanth bonala bonala bonala\"))\n",
    "#prints 6 as bonala repeats more times and length of bonala is 6"
   ]
  },
  {
   "cell_type": "code",
   "execution_count": 3,
   "id": "5661fe73",
   "metadata": {},
   "outputs": [
    {
     "name": "stdout",
     "output_type": "stream",
     "text": [
      "7\n"
     ]
    }
   ],
   "source": [
    "print(sol(\"my name name name is jayanth bonala jayanth bonala jayanth bonala jayanth bonala\"))\n",
    "#prints 7 -->jayanth repeats 4 times,bonala repeats 4 times\n",
    "#length of jayanth(7) is greater than length of bonala(6),so it prints 7  "
   ]
  },
  {
   "cell_type": "code",
   "execution_count": null,
   "id": "ef975f5c",
   "metadata": {},
   "outputs": [],
   "source": []
  }
 ],
 "metadata": {
  "kernelspec": {
   "display_name": "Python 3 (ipykernel)",
   "language": "python",
   "name": "python3"
  },
  "language_info": {
   "codemirror_mode": {
    "name": "ipython",
    "version": 3
   },
   "file_extension": ".py",
   "mimetype": "text/x-python",
   "name": "python",
   "nbconvert_exporter": "python",
   "pygments_lexer": "ipython3",
   "version": "3.10.9"
  }
 },
 "nbformat": 4,
 "nbformat_minor": 5
}
