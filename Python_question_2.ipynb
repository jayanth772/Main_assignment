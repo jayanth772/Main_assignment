{
 "cells": [
  {
   "cell_type": "code",
   "execution_count": null,
   "id": "48e2f16f",
   "metadata": {},
   "outputs": [],
   "source": [
    "Question 2: -\n",
    "Consider a string to be valid if all characters of the string appear the same number of times. It is also valid if\n",
    "he can remove just one character at the index in the string, and the remaining characters will occur the same\n",
    "number of times. Given a string, determine if it is valid. If so, return YES , otherwise return NO"
   ]
  },
  {
   "cell_type": "code",
   "execution_count": 12,
   "id": "8b237b4c",
   "metadata": {},
   "outputs": [
    {
     "name": "stdout",
     "output_type": "stream",
     "text": [
      "YES\n"
     ]
    }
   ],
   "source": [
    "def sol(s):\n",
    "    d={}\n",
    "    for i in range(len(s)):\n",
    "        if s[i].lower() not in d.keys():\n",
    "            d[s[i].lower()]=1\n",
    "        else:\n",
    "            d[s[i].lower()]=d[s[i].lower()]+1\n",
    "    li=list(d.values())\n",
    "    if max(li)==min(li):\n",
    "        if li.count(min(li))==len(li):\n",
    "            return 'YES'\n",
    "        else:\n",
    "            return 'NO'\n",
    "    elif max(li)-min(li)==1:\n",
    "        if li.count(max(li))==1:\n",
    "            return 'YES' \n",
    "        else:\n",
    "            return 'NO'\n",
    "    else:\n",
    "        return 'NO'\n",
    "    return 'NO'"
   ]
  },
  {
   "cell_type": "code",
   "execution_count": 13,
   "id": "88adef0a",
   "metadata": {},
   "outputs": [
    {
     "name": "stdout",
     "output_type": "stream",
     "text": [
      "YES\n"
     ]
    }
   ],
   "source": [
    "print(sol('abcde'))\n",
    "#Explanation:It prints 'YES' as a,b,c,d,e repeats 1 time,so it is a valid string "
   ]
  },
  {
   "cell_type": "code",
   "execution_count": 15,
   "id": "e4422bc3",
   "metadata": {},
   "outputs": [
    {
     "name": "stdout",
     "output_type": "stream",
     "text": [
      "YES\n"
     ]
    }
   ],
   "source": [
    "print(sol('abccde'))\n",
    "#Explanation:It prints 'YES' as a,b,d,e repeats 1 time and c repeats 2 time removing 1 from this index makes it valid string\n",
    "#,so it is a valid string "
   ]
  },
  {
   "cell_type": "code",
   "execution_count": 17,
   "id": "b09ba6a5",
   "metadata": {},
   "outputs": [
    {
     "name": "stdout",
     "output_type": "stream",
     "text": [
      "NO\n"
     ]
    }
   ],
   "source": [
    "print(sol('abcccde'))\n",
    "#Explanation:It prints 'NO' as a,b,d,e repeats 1 time but c repeats 3 time removing 1 from this index makes it  2 which\n",
    "#is not a valid string,so it prints 'NO'"
   ]
  },
  {
   "cell_type": "code",
   "execution_count": null,
   "id": "95b83f8e",
   "metadata": {},
   "outputs": [],
   "source": []
  }
 ],
 "metadata": {
  "kernelspec": {
   "display_name": "Python 3 (ipykernel)",
   "language": "python",
   "name": "python3"
  },
  "language_info": {
   "codemirror_mode": {
    "name": "ipython",
    "version": 3
   },
   "file_extension": ".py",
   "mimetype": "text/x-python",
   "name": "python",
   "nbconvert_exporter": "python",
   "pygments_lexer": "ipython3",
   "version": "3.10.9"
  }
 },
 "nbformat": 4,
 "nbformat_minor": 5
}
