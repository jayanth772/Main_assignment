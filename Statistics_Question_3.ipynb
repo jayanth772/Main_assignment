{
 "cells": [
  {
   "cell_type": "markdown",
   "id": "c8d23988",
   "metadata": {},
   "source": [
    "# Q-3. \n",
    "Consider the ‘Blood Pressure Before’ and ‘Blood Pressure After’ columns from the\n",
    "data and calculate the following\n",
    "\n",
    "https://drive.google.com/file/d/1mCjtYHiX--mMUjicuaP2gH3k-SnFxt8Y/view?usp=share_\n",
    "a. Measure the dispersion in both and interpret the results.\n",
    "b. Calculate mean and 5% confidence interval and plot it in a graph\n",
    "c. Calculate the Mean absolute deviation and Standard deviation and interpret\n",
    "the results.\n",
    "d. Calculate the correlation coefficient and check the significance of it at 1% level\n",
    "of significance."
   ]
  },
  {
   "cell_type": "code",
   "execution_count": 1,
   "id": "be8d7207",
   "metadata": {},
   "outputs": [],
   "source": [
    "import pandas as pd\n",
    "import numpy as np\n",
    "import matplotlib.pyplot as plt\n",
    "from scipy.stats import norm\n",
    "import seaborn as sns"
   ]
  },
  {
   "cell_type": "code",
   "execution_count": 2,
   "id": "defd94c8",
   "metadata": {},
   "outputs": [],
   "source": [
    "df=pd.read_csv(r\"C:\\Users\\jayan\\Downloads\\data.csv\")"
   ]
  },
  {
   "cell_type": "code",
   "execution_count": 3,
   "id": "a8978dbf",
   "metadata": {},
   "outputs": [
    {
     "data": {
      "text/html": [
       "<div>\n",
       "<style scoped>\n",
       "    .dataframe tbody tr th:only-of-type {\n",
       "        vertical-align: middle;\n",
       "    }\n",
       "\n",
       "    .dataframe tbody tr th {\n",
       "        vertical-align: top;\n",
       "    }\n",
       "\n",
       "    .dataframe thead th {\n",
       "        text-align: right;\n",
       "    }\n",
       "</style>\n",
       "<table border=\"1\" class=\"dataframe\">\n",
       "  <thead>\n",
       "    <tr style=\"text-align: right;\">\n",
       "      <th></th>\n",
       "      <th>Patient ID</th>\n",
       "      <th>Blood Pressure Before (mmHg)</th>\n",
       "      <th>Blood Pressure After (mmHg)</th>\n",
       "    </tr>\n",
       "  </thead>\n",
       "  <tbody>\n",
       "    <tr>\n",
       "      <th>0</th>\n",
       "      <td>1</td>\n",
       "      <td>130</td>\n",
       "      <td>120</td>\n",
       "    </tr>\n",
       "    <tr>\n",
       "      <th>1</th>\n",
       "      <td>2</td>\n",
       "      <td>142</td>\n",
       "      <td>135</td>\n",
       "    </tr>\n",
       "    <tr>\n",
       "      <th>2</th>\n",
       "      <td>3</td>\n",
       "      <td>120</td>\n",
       "      <td>118</td>\n",
       "    </tr>\n",
       "    <tr>\n",
       "      <th>3</th>\n",
       "      <td>4</td>\n",
       "      <td>135</td>\n",
       "      <td>127</td>\n",
       "    </tr>\n",
       "    <tr>\n",
       "      <th>4</th>\n",
       "      <td>5</td>\n",
       "      <td>148</td>\n",
       "      <td>140</td>\n",
       "    </tr>\n",
       "  </tbody>\n",
       "</table>\n",
       "</div>"
      ],
      "text/plain": [
       "   Patient ID   Blood Pressure Before (mmHg)   Blood Pressure After (mmHg)\n",
       "0           1                            130                           120\n",
       "1           2                            142                           135\n",
       "2           3                            120                           118\n",
       "3           4                            135                           127\n",
       "4           5                            148                           140"
      ]
     },
     "execution_count": 3,
     "metadata": {},
     "output_type": "execute_result"
    }
   ],
   "source": [
    "df.head()"
   ]
  },
  {
   "cell_type": "markdown",
   "id": "10aa178c",
   "metadata": {},
   "source": [
    "# a.Measure the dispersion in both and interpret the results."
   ]
  },
  {
   "cell_type": "code",
   "execution_count": 4,
   "id": "9d513caa",
   "metadata": {},
   "outputs": [
    {
     "name": "stdout",
     "output_type": "stream",
     "text": [
      "variance of Blood Pressure Before (mmHg) is 43.10189999999998\n",
      "variance of Blood Pressure After (mmHg) id 46.97040000000002\n",
      "Standard deviation of Blood Pressure Before (mmHg) is 43.10189999999998\n",
      "Standard deviation of Blood Pressure After (mmHg) id 46.97040000000002\n"
     ]
    }
   ],
   "source": [
    "#variance\n",
    "a=np.var(df[\" Blood Pressure Before (mmHg)\"])\n",
    "b=np.var(df[\" Blood Pressure After (mmHg)\"])\n",
    "print(f\"variance of Blood Pressure Before (mmHg) is {a}\")\n",
    "print(f\"variance of Blood Pressure After (mmHg) id {b}\")\n",
    "\n",
    "#standard deviation\n",
    "c=np.std(df[\" Blood Pressure Before (mmHg)\"])\n",
    "d=np.std(df[\" Blood Pressure After (mmHg)\"])\n",
    "print(f\"Standard deviation of Blood Pressure Before (mmHg) is {a}\")\n",
    "print(f\"Standard deviation of Blood Pressure After (mmHg) id {b}\")\n"
   ]
  },
  {
   "cell_type": "markdown",
   "id": "b9fe1b94",
   "metadata": {},
   "source": [
    "# b. Calculate mean and 5% confidence interval and plot it in a graph"
   ]
  },
  {
   "cell_type": "markdown",
   "id": "1fbd27c1",
   "metadata": {},
   "source": [
    "Mean"
   ]
  },
  {
   "cell_type": "code",
   "execution_count": 5,
   "id": "f27029a1",
   "metadata": {},
   "outputs": [
    {
     "name": "stdout",
     "output_type": "stream",
     "text": [
      "Mean of Blood Pressure Before (mmHg) is 133.91\n",
      "Mean of Blood Pressure After (mmHg) is 128.36\n"
     ]
    }
   ],
   "source": [
    "a=np.mean(df[\" Blood Pressure Before (mmHg)\"])\n",
    "b=np.mean(df[\" Blood Pressure After (mmHg)\"])\n",
    "print(f\"Mean of Blood Pressure Before (mmHg) is {a}\")\n",
    "print(f\"Mean of Blood Pressure After (mmHg) is {b}\")"
   ]
  },
  {
   "cell_type": "markdown",
   "id": "9bc4f34c",
   "metadata": {},
   "source": [
    "# i)Blood Pressure Before (mmHg) column confidence intervel=5%"
   ]
  },
  {
   "cell_type": "code",
   "execution_count": 6,
   "id": "f6a483b9",
   "metadata": {},
   "outputs": [
    {
     "data": {
      "image/png": "[encoded data removed]",
      "text/plain": [
       "<Figure size 640x480 with 1 Axes>"
      ]
     },
     "metadata": {},
     "output_type": "display_data"
    }
   ],
   "source": [
    "#calculate the confidence intervel\n",
    "mean=np.mean(df[\" Blood Pressure Before (mmHg)\"])\n",
    "std=np.std(df[\" Blood Pressure Before (mmHg)\"])\n",
    "#Z value for confidence intervel=5%\n",
    "z=-1.645\n",
    "#calculate the confidence intervel\n",
    "lower_bound=mean-(z*std/np.sqrt(len(df[\" Blood Pressure Before (mmHg)\"])))\n",
    "upper_bound=mean+(z*std/np.sqrt(len(df[\" Blood Pressure Before (mmHg)\"])))\n",
    "sns.histplot(x=df[\" Blood Pressure Before (mmHg)\"],kde=True)\n",
    "plt.axvline(mean, color='red', linestyle='--', label='Mean')\n",
    "plt.axvline(lower_bound, color='green', linestyle='--', label='Lower Bound')\n",
    "plt.axvline(upper_bound, color='green', linestyle='--', label='Upper Bound')\n",
    "plt.show()"
   ]
  },
  {
   "cell_type": "markdown",
   "id": "726684b4",
   "metadata": {},
   "source": [
    "# ii)Blood Pressure After (mmHg) column confidence intervel=5%"
   ]
  },
  {
   "cell_type": "code",
   "execution_count": 7,
   "id": "77908334",
   "metadata": {},
   "outputs": [
    {
     "data": {
      "image/png": "[encoded data removed]",
      "text/plain": [
       "<Figure size 640x480 with 1 Axes>"
      ]
     },
     "metadata": {},
     "output_type": "display_data"
    }
   ],
   "source": [
    "#calculate the confidence intervel\n",
    "mean=np.mean(df[\" Blood Pressure After (mmHg)\"])\n",
    "std=np.std(df[\" Blood Pressure After (mmHg)\"])\n",
    "#Z value for confidence intervel=5%\n",
    "z=-1.645\n",
    "#calculate the confidence intervel\n",
    "lower_bound=mean-(z*std/np.sqrt(len(df[\" Blood Pressure After (mmHg)\"])))\n",
    "upper_bound=mean+(z*std/np.sqrt(len(df[\" Blood Pressure After (mmHg)\"])))\n",
    "sns.histplot(x=df[\" Blood Pressure Before (mmHg)\"],kde=True)\n",
    "plt.axvline(mean, color='red', linestyle='--', label='Mean')\n",
    "plt.axvline(lower_bound, color='green', linestyle='--', label='Lower Bound')\n",
    "plt.axvline(upper_bound, color='green', linestyle='--', label='Upper Bound')\n",
    "plt.show()"
   ]
  },
  {
   "cell_type": "markdown",
   "id": "6b72010a",
   "metadata": {},
   "source": [
    "# c. Calculate the Mean absolute deviation and Standard deviation and interpret the results."
   ]
  },
  {
   "cell_type": "markdown",
   "id": "3eaa87e2",
   "metadata": {},
   "source": [
    "# i)For Blood Pressure Before (mmhg)"
   ]
  },
  {
   "cell_type": "code",
   "execution_count": 8,
   "id": "8ec76e1f",
   "metadata": {},
   "outputs": [
    {
     "name": "stdout",
     "output_type": "stream",
     "text": [
      "Mean absolute deviation with formula is 5.7118\n",
      "Mean absolute deviation with python is 5.7118\n",
      "standard deviation with formula is 6.598278012275075\n",
      "Standard deviation with python is 6.5652037287505385\n"
     ]
    },
    {
     "name": "stderr",
     "output_type": "stream",
     "text": [
      "C:\\Users\\jayan\\AppData\\Local\\Temp\\ipykernel_12476\\2251910321.py:12: FutureWarning: The 'mad' method is deprecated and will be removed in a future version. To compute the same result, you may do `(df - df.mean()).abs().mean()`.\n",
      "  print(f\"Mean absolute deviation with python is {df[' Blood Pressure Before (mmHg)'].mad()}\")\n"
     ]
    }
   ],
   "source": [
    "#mean absolute deviation for Blood Pressure \n",
    "mean=np.mean(df[\" Blood Pressure Before (mmHg)\"])\n",
    "sum=0\n",
    "n=len(df[' Blood Pressure Before (mmHg)'])\n",
    "for i in range(n):\n",
    "    d=abs(df[' Blood Pressure Before (mmHg)'][i]-mean)\n",
    "    sum=sum+d\n",
    "    \n",
    "sum=sum/n    \n",
    "print(f\"Mean absolute deviation with formula is {sum}\")\n",
    "#with python\n",
    "print(f\"Mean absolute deviation with python is {df[' Blood Pressure Before (mmHg)'].mad()}\")\n",
    "    \n",
    "    \n",
    "#Standard deviation\n",
    "mean=np.mean(df[\" Blood Pressure Before (mmHg)\"])\n",
    "sum=0\n",
    "n=len(df[' Blood Pressure Before (mmHg)'])\n",
    "for i in range(n):\n",
    "    d=df[' Blood Pressure Before (mmHg)'][i]-mean\n",
    "    d=d*d\n",
    "    sum=sum+d\n",
    "    \n",
    "sum=np.sqrt(sum/(n-1))    \n",
    "print(f\"standard deviation with formula is {sum}\")\n",
    "#with python\n",
    "res=np.std(df[\" Blood Pressure Before (mmHg)\"])\n",
    "print(f\"Standard deviation with python is {res}\")"
   ]
  },
  {
   "cell_type": "markdown",
   "id": "a2ed350b",
   "metadata": {},
   "source": [
    "# ii)Blood Pressure After (mmHg)"
   ]
  },
  {
   "cell_type": "code",
   "execution_count": 9,
   "id": "aa3b25ca",
   "metadata": {},
   "outputs": [
    {
     "name": "stdout",
     "output_type": "stream",
     "text": [
      "Mean absolute deviation with formula is 5.9\n",
      "Mean absolute deviation with python is 5.9\n",
      "standard deviation with formula is 6.8880221025232276\n",
      "Standard deviation with python is 6.853495458523338\n"
     ]
    },
    {
     "name": "stderr",
     "output_type": "stream",
     "text": [
      "C:\\Users\\jayan\\AppData\\Local\\Temp\\ipykernel_12476\\1545336431.py:12: FutureWarning: The 'mad' method is deprecated and will be removed in a future version. To compute the same result, you may do `(df - df.mean()).abs().mean()`.\n",
      "  print(f\"Mean absolute deviation with python is {df[' Blood Pressure After (mmHg)'].mad()}\")\n"
     ]
    }
   ],
   "source": [
    "#mean absolute deviation for Blood Pressure After\n",
    "mean=np.mean(df[\" Blood Pressure After (mmHg)\"])\n",
    "sum=0\n",
    "n=len(df[' Blood Pressure After (mmHg)'])\n",
    "for i in range(n):\n",
    "    d=abs(df[' Blood Pressure After (mmHg)'][i]-mean)\n",
    "    sum=sum+d\n",
    "    \n",
    "sum=sum/n    \n",
    "print(f\"Mean absolute deviation with formula is {sum}\")\n",
    "#with python\n",
    "print(f\"Mean absolute deviation with python is {df[' Blood Pressure After (mmHg)'].mad()}\")\n",
    "    \n",
    "    \n",
    "#Standard deviation\n",
    "mean=np.mean(df[\" Blood Pressure After (mmHg)\"])\n",
    "sum=0\n",
    "n=len(df[' Blood Pressure After (mmHg)'])\n",
    "for i in range(n):\n",
    "    d=df[' Blood Pressure After (mmHg)'][i]-mean\n",
    "    d=d*d\n",
    "    sum=sum+d\n",
    "    \n",
    "sum=np.sqrt(sum/(n-1))    \n",
    "print(f\"standard deviation with formula is {sum}\")\n",
    "#with python\n",
    "res=np.std(df[\" Blood Pressure After (mmHg)\"])\n",
    "print(f\"Standard deviation with python is {res}\")"
   ]
  },
  {
   "cell_type": "markdown",
   "id": "3346c212",
   "metadata": {},
   "source": [
    "# d. Calculate the correlation coefficient and check the significance of it at 1% level of significance."
   ]
  },
  {
   "cell_type": "markdown",
   "id": "d0d973e1",
   "metadata": {},
   "source": [
    "# i)Corelation coefficient"
   ]
  },
  {
   "cell_type": "code",
   "execution_count": 10,
   "id": "603b001f",
   "metadata": {},
   "outputs": [
    {
     "name": "stdout",
     "output_type": "stream",
     "text": [
      "0.9779485966556017\n"
     ]
    },
    {
     "data": {
      "text/plain": [
       "array([[1.       , 0.9779486],\n",
       "       [0.9779486, 1.       ]])"
      ]
     },
     "execution_count": 10,
     "metadata": {},
     "output_type": "execute_result"
    }
   ],
   "source": [
    "#Correlation coeffiecient by Formula\n",
    "sum1=0\n",
    "sum2=0\n",
    "sum3=0\n",
    "mean1=np.mean(df[' Blood Pressure Before (mmHg)'])\n",
    "mean2=np.mean(df[' Blood Pressure After (mmHg)'])\n",
    "for i in range(len(df)):\n",
    "    d1=df[' Blood Pressure Before (mmHg)'][i]-mean1\n",
    "    d2=df[' Blood Pressure After (mmHg)'][i]-mean2\n",
    "    sum1=sum1+(d1*d2)\n",
    "    sum2=sum2+(d1*d1)\n",
    "    sum3=sum3+(d2*d2)\n",
    "\n",
    "sum4=sum2*sum3\n",
    "sum4=np.sqrt(sum4)\n",
    "res=sum1/sum4\n",
    "print(res)\n",
    "\n",
    "#Correlation coefficient by python\n",
    "np.corrcoef(df[\" Blood Pressure Before (mmHg)\"],df[\" Blood Pressure After (mmHg)\"])"
   ]
  },
  {
   "cell_type": "markdown",
   "id": "6b33aaca",
   "metadata": {},
   "source": [
    "# ii)significance at 1% level of significance"
   ]
  },
  {
   "cell_type": "code",
   "execution_count": null,
   "id": "ce98593f",
   "metadata": {},
   "outputs": [],
   "source": [
    "At 1% level of significance we does not have enough evidence to reject null hypothesis,the p value(error) will be less than\n",
    "0.05."
   ]
  }
 ],
 "metadata": {
  "kernelspec": {
   "display_name": "Python 3 (ipykernel)",
   "language": "python",
   "name": "python3"
  },
  "language_info": {
   "codemirror_mode": {
    "name": "ipython",
    "version": 3
   },
   "file_extension": ".py",
   "mimetype": "text/x-python",
   "name": "python",
   "nbconvert_exporter": "python",
   "pygments_lexer": "ipython3",
   "version": "3.10.9"
  }
 },
 "nbformat": 4,
 "nbformat_minor": 5
}
